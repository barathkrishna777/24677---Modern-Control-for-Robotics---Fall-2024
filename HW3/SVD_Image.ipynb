{
 "cells": [
  {
   "cell_type": "code",
   "execution_count": 2,
   "metadata": {},
   "outputs": [
    {
     "name": "stdout",
     "output_type": "stream",
     "text": [
      "Number of singular values used:  337\n",
      "Number of singular values used:  67\n",
      "Number of singular values used:  33\n"
     ]
    }
   ],
   "source": [
    "from PIL import Image\n",
    "import numpy as np\n",
    "\n",
    "path = 'CMU_Grayscale.png'\n",
    "img = Image.open(path).convert('L')\n",
    "img.show()\n",
    "img_matrix = np.array(img)\n",
    "\n",
    "def compress(image_array, factor):\n",
    "    # Perform SVD on the image\n",
    "    U, S, V = np.linalg.svd(image_array, full_matrices=False)\n",
    "    \n",
    "    # Number of singular values to keep\n",
    "    k = int(factor * len(S))\n",
    "    print(\"Number of singular values used: \", k)\n",
    "    \n",
    "    # Reconstruct the image using the first k singular values\n",
    "    S_k = np.diag(S[:k])\n",
    "    U_k = U[:, :k]\n",
    "    Vt_k = V[:k, :]\n",
    "\n",
    "    compressed_image = np.dot(np.dot(U_k, S_k), Vt_k)\n",
    "    \n",
    "    return compressed_image\n",
    "\n",
    "\n",
    "factors = [0.5, 0.1, 0.05]\n",
    "\n",
    "for ratio in factors:\n",
    "    compressed_image = compress(img_matrix, ratio)\n",
    "    image_array_clipped = np.clip(compressed_image, 0, 255).astype(np.uint8)\n",
    "    \n",
    "    filename = f'compressed_{int(ratio * 100)}.png'\n",
    "    Image.fromarray(image_array_clipped).save(filename)"
   ]
  }
 ],
 "metadata": {
  "kernelspec": {
   "display_name": "Python 3",
   "language": "python",
   "name": "python3"
  },
  "language_info": {
   "codemirror_mode": {
    "name": "ipython",
    "version": 3
   },
   "file_extension": ".py",
   "mimetype": "text/x-python",
   "name": "python",
   "nbconvert_exporter": "python",
   "pygments_lexer": "ipython3",
   "version": "3.12.5"
  }
 },
 "nbformat": 4,
 "nbformat_minor": 2
}
